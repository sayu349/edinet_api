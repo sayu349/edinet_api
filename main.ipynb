{
 "cells": [
  {
   "cell_type": "code",
   "execution_count": 1,
   "metadata": {},
   "outputs": [
    {
     "name": "stdout",
     "output_type": "stream",
     "text": [
      "Collecting edinet-xbrl\n",
      "  Downloading edinet_xbrl-0.2.0.tar.gz (9.8 kB)\n",
      "  Installing build dependencies: started\n",
      "  Installing build dependencies: finished with status 'done'\n",
      "  Getting requirements to build wheel: started\n",
      "  Getting requirements to build wheel: finished with status 'done'\n",
      "  Installing backend dependencies: started\n",
      "  Installing backend dependencies: finished with status 'done'\n",
      "  Preparing metadata (pyproject.toml): started\n",
      "  Preparing metadata (pyproject.toml): finished with status 'done'\n",
      "Collecting python-xbrl (from edinet-xbrl)\n",
      "  Downloading python-xbrl-1.1.1.tar.gz (10 kB)\n",
      "  Installing build dependencies: started\n",
      "  Installing build dependencies: finished with status 'done'\n",
      "  Getting requirements to build wheel: started\n",
      "  Getting requirements to build wheel: finished with status 'done'\n",
      "  Installing backend dependencies: started\n",
      "  Installing backend dependencies: finished with status 'done'\n",
      "  Preparing metadata (pyproject.toml): started\n",
      "  Preparing metadata (pyproject.toml): finished with status 'done'\n",
      "Collecting requests (from edinet-xbrl)\n",
      "  Downloading requests-2.31.0-py3-none-any.whl.metadata (4.6 kB)\n",
      "Collecting pytest (from python-xbrl->edinet-xbrl)\n",
      "  Downloading pytest-8.0.0-py3-none-any.whl.metadata (7.8 kB)\n",
      "Collecting pep8 (from python-xbrl->edinet-xbrl)\n",
      "  Downloading pep8-1.7.1-py2.py3-none-any.whl (41 kB)\n",
      "     ---------------------------------------- 0.0/41.5 kB ? eta -:--:--\n",
      "     ---------------------------------------- 41.5/41.5 kB 2.0 MB/s eta 0:00:00\n",
      "Collecting marshmallow (from python-xbrl->edinet-xbrl)\n",
      "  Downloading marshmallow-3.20.2-py3-none-any.whl.metadata (7.5 kB)\n",
      "Collecting beautifulsoup4 (from python-xbrl->edinet-xbrl)\n",
      "  Downloading beautifulsoup4-4.12.3-py3-none-any.whl.metadata (3.8 kB)\n",
      "Collecting ordereddict (from python-xbrl->edinet-xbrl)\n",
      "  Downloading ordereddict-1.1.tar.gz (2.1 kB)\n",
      "  Installing build dependencies: started\n",
      "  Installing build dependencies: finished with status 'done'\n",
      "  Getting requirements to build wheel: started\n",
      "  Getting requirements to build wheel: finished with status 'done'\n",
      "  Installing backend dependencies: started\n",
      "  Installing backend dependencies: finished with status 'done'\n",
      "  Preparing metadata (pyproject.toml): started\n",
      "  Preparing metadata (pyproject.toml): finished with status 'done'\n",
      "Collecting lxml (from python-xbrl->edinet-xbrl)\n",
      "  Downloading lxml-5.1.0-cp312-cp312-win_amd64.whl.metadata (3.6 kB)\n",
      "Requirement already satisfied: six in c:\\users\\rhamano\\appdata\\local\\programs\\python\\python312\\lib\\site-packages (from python-xbrl->edinet-xbrl) (1.16.0)\n",
      "Collecting charset-normalizer<4,>=2 (from requests->edinet-xbrl)\n",
      "  Downloading charset_normalizer-3.3.2-cp312-cp312-win_amd64.whl.metadata (34 kB)\n",
      "Collecting idna<4,>=2.5 (from requests->edinet-xbrl)\n",
      "  Downloading idna-3.6-py3-none-any.whl.metadata (9.9 kB)\n",
      "Collecting urllib3<3,>=1.21.1 (from requests->edinet-xbrl)\n",
      "  Downloading urllib3-2.2.0-py3-none-any.whl.metadata (6.4 kB)\n",
      "Collecting certifi>=2017.4.17 (from requests->edinet-xbrl)\n",
      "  Downloading certifi-2024.2.2-py3-none-any.whl.metadata (2.2 kB)\n",
      "Collecting soupsieve>1.2 (from beautifulsoup4->python-xbrl->edinet-xbrl)\n",
      "  Downloading soupsieve-2.5-py3-none-any.whl.metadata (4.7 kB)\n",
      "Requirement already satisfied: packaging>=17.0 in c:\\users\\rhamano\\appdata\\roaming\\python\\python312\\site-packages (from marshmallow->python-xbrl->edinet-xbrl) (23.2)\n",
      "Collecting iniconfig (from pytest->python-xbrl->edinet-xbrl)\n",
      "  Downloading iniconfig-2.0.0-py3-none-any.whl (5.9 kB)\n",
      "Collecting pluggy<2.0,>=1.3.0 (from pytest->python-xbrl->edinet-xbrl)\n",
      "  Downloading pluggy-1.4.0-py3-none-any.whl.metadata (4.3 kB)\n",
      "Requirement already satisfied: colorama in c:\\users\\rhamano\\appdata\\local\\programs\\python\\python312\\lib\\site-packages (from pytest->python-xbrl->edinet-xbrl) (0.4.6)\n",
      "Downloading requests-2.31.0-py3-none-any.whl (62 kB)\n",
      "   ---------------------------------------- 0.0/62.6 kB ? eta -:--:--\n",
      "   ---------------------------------------- 62.6/62.6 kB 3.5 MB/s eta 0:00:00\n",
      "Downloading certifi-2024.2.2-py3-none-any.whl (163 kB)\n",
      "   ---------------------------------------- 0.0/163.8 kB ? eta -:--:--\n",
      "   ---------------------------------------- 163.8/163.8 kB 5.0 MB/s eta 0:00:00\n",
      "Downloading charset_normalizer-3.3.2-cp312-cp312-win_amd64.whl (100 kB)\n",
      "   ---------------------------------------- 0.0/100.4 kB ? eta -:--:--\n",
      "   ---------------------------------------- 100.4/100.4 kB 6.0 MB/s eta 0:00:00\n",
      "Downloading idna-3.6-py3-none-any.whl (61 kB)\n",
      "   ---------------------------------------- 0.0/61.6 kB ? eta -:--:--\n",
      "   ---------------------------------------- 61.6/61.6 kB ? eta 0:00:00\n",
      "Downloading urllib3-2.2.0-py3-none-any.whl (120 kB)\n",
      "   ---------------------------------------- 0.0/120.9 kB ? eta -:--:--\n",
      "   ---------------------------------------- 120.9/120.9 kB ? eta 0:00:00\n",
      "Downloading beautifulsoup4-4.12.3-py3-none-any.whl (147 kB)\n",
      "   ---------------------------------------- 0.0/147.9 kB ? eta -:--:--\n",
      "   ---------------------------------------- 147.9/147.9 kB ? eta 0:00:00\n",
      "Downloading lxml-5.1.0-cp312-cp312-win_amd64.whl (3.9 MB)\n",
      "   ---------------------------------------- 0.0/3.9 MB ? eta -:--:--\n",
      "   ------------ --------------------------- 1.2/3.9 MB 26.1 MB/s eta 0:00:01\n",
      "   ---------------------------- ----------- 2.8/3.9 MB 29.7 MB/s eta 0:00:01\n",
      "   ------------------------------- -------- 3.1/3.9 MB 21.8 MB/s eta 0:00:01\n",
      "   ---------------------------------------  3.9/3.9 MB 22.6 MB/s eta 0:00:01\n",
      "   ---------------------------------------- 3.9/3.9 MB 19.2 MB/s eta 0:00:00\n",
      "Downloading marshmallow-3.20.2-py3-none-any.whl (49 kB)\n",
      "   ---------------------------------------- 0.0/49.4 kB ? eta -:--:--\n",
      "   ---------------------------------------- 49.4/49.4 kB 2.6 MB/s eta 0:00:00\n",
      "Downloading pytest-8.0.0-py3-none-any.whl (334 kB)\n",
      "   ---------------------------------------- 0.0/334.0 kB ? eta -:--:--\n",
      "   --------------------------------------- 334.0/334.0 kB 20.2 MB/s eta 0:00:00\n",
      "Downloading pluggy-1.4.0-py3-none-any.whl (20 kB)\n",
      "Downloading soupsieve-2.5-py3-none-any.whl (36 kB)\n",
      "Building wheels for collected packages: edinet-xbrl, python-xbrl, ordereddict\n",
      "  Building wheel for edinet-xbrl (pyproject.toml): started\n",
      "  Building wheel for edinet-xbrl (pyproject.toml): finished with status 'done'\n",
      "  Created wheel for edinet-xbrl: filename=edinet_xbrl-0.2.0-py2.py3-none-any.whl size=10863 sha256=8deb3e22ab3234a2f98cd34a175cc9f62959dc266b9c22e91cc98e8697e7a38d\n",
      "  Stored in directory: c:\\users\\rhamano\\appdata\\local\\pip\\cache\\wheels\\0a\\13\\64\\264db74bed92e2b64063f202c8db180291068048c6b1a372a5\n",
      "  Building wheel for python-xbrl (pyproject.toml): started\n",
      "  Building wheel for python-xbrl (pyproject.toml): finished with status 'done'\n",
      "  Created wheel for python-xbrl: filename=python_xbrl-1.1.1-py2.py3-none-any.whl size=10649 sha256=eafc14ee7dd61652a49f8854fcc1fcf59b774c9d6a1cec940562ef6040dd53c4\n",
      "  Stored in directory: c:\\users\\rhamano\\appdata\\local\\pip\\cache\\wheels\\98\\50\\1a\\d9f8feb7937ed9e8e32159cdb761aa9d9217570faa5f80a742\n",
      "  Building wheel for ordereddict (pyproject.toml): started\n",
      "  Building wheel for ordereddict (pyproject.toml): finished with status 'done'\n",
      "  Created wheel for ordereddict: filename=ordereddict-1.1-py3-none-any.whl size=3513 sha256=1748f707e162241510fbcf5a2acdacac54d1ed492d6fa6b55c54a3bc1fe7e28f\n",
      "  Stored in directory: c:\\users\\rhamano\\appdata\\local\\pip\\cache\\wheels\\5b\\60\\d3\\6aa5e6a099f4a40cdf45f14743e60f15f9c5d5115885a5a1e2\n",
      "Successfully built edinet-xbrl python-xbrl ordereddict\n",
      "Installing collected packages: pep8, ordereddict, urllib3, soupsieve, pluggy, marshmallow, lxml, iniconfig, idna, charset-normalizer, certifi, requests, pytest, beautifulsoup4, python-xbrl, edinet-xbrl\n",
      "Successfully installed beautifulsoup4-4.12.3 certifi-2024.2.2 charset-normalizer-3.3.2 edinet-xbrl-0.2.0 idna-3.6 iniconfig-2.0.0 lxml-5.1.0 marshmallow-3.20.2 ordereddict-1.1 pep8-1.7.1 pluggy-1.4.0 pytest-8.0.0 python-xbrl-1.1.1 requests-2.31.0 soupsieve-2.5 urllib3-2.2.0\n"
     ]
    }
   ],
   "source": [
    "! pip install edinet-xbrl"
   ]
  },
  {
   "cell_type": "code",
   "execution_count": null,
   "metadata": {},
   "outputs": [],
   "source": [
    "# ファイルパスのパターンにワイルドカードを使うので必要\n",
    "import glob\n",
    "# xbrl解析に必要\n",
    "from edinet_xbrl.edinet_xbrl_parser import EdinetXbrlParser\n",
    "# 不必要なタグ・スペースを除去するのに必要\n",
    "import re"
   ]
  },
  {
   "cell_type": "code",
   "execution_count": 23,
   "metadata": {},
   "outputs": [
    {
     "name": "stderr",
     "output_type": "stream",
     "text": [
      "<>:25: SyntaxWarning: invalid escape sequence '\\s'\n",
      "<>:25: SyntaxWarning: invalid escape sequence '\\s'\n",
      "C:\\Users\\rhamano\\AppData\\Local\\Temp\\ipykernel_8360\\134517061.py:25: SyntaxWarning: invalid escape sequence '\\s'\n",
      "  text_data = re.sub('\\s','',text_data)\n"
     ]
    }
   ],
   "source": [
    "def Business_risk(file_name_list):\n",
    "    #パーサのインスタンス化\n",
    "    parser = EdinetXbrlParser()\n",
    "\n",
    "    for file_name in file_name_list:\n",
    "        xbrl_path = f\"influencer_marketing_data_set/{file_name}/S*/XBRL/PublicDoc/*.xbrl\"\n",
    "\n",
    "\n",
    "        xbrl_path_all = glob.glob(xbrl_path)\n",
    "        print(xbrl_path_all)\n",
    "\n",
    "        xbrl_path = glob.glob(xbrl_path)[0]\n",
    "\n",
    "        edinet_xbrl_object = parser.parse_file(xbrl_path)\n",
    "\n",
    "        # 事業等のリスクをとってみる\n",
    "        # <jpcrp_cor:BusinessRisksTextBlock contextRef=\"FilingDateInstant\">\n",
    "        # ってところに事業等のリスクがあるので\n",
    "        key='jpcrp_cor:BusinessRisksTextBlock'\n",
    "        context_ref='FilingDateInstant'\n",
    "        data = edinet_xbrl_object.get_data_by_context_ref(key, context_ref)\n",
    "        text_data = data.get_value()\n",
    "\n",
    "        # 空白（\\s）除去\n",
    "        text_data = re.sub('\\s','',text_data)\n",
    "        # 任意の文字数のタグ（<.*?>）の除去\n",
    "        text_data = re.sub('<.*?>','',text_data)\n",
    "\n",
    "        # テキストデータの保存\n",
    "        text_file = open(f'Business_risk/{file_name}_Business_risk.txt', 'w', encoding='UTF-8')\n",
    "        text_file.write(text_data)\n",
    "        text_file.close()"
   ]
  },
  {
   "cell_type": "code",
   "execution_count": 24,
   "metadata": {},
   "outputs": [
    {
     "name": "stdout",
     "output_type": "stream",
     "text": [
      "['influencer_marketing_data_set/anymindgroup_2023\\\\S100QHY2\\\\XBRL\\\\PublicDoc\\\\jpcrp030000-asr-001_E37466-000_2022-12-31_01_2023-03-30.xbrl']\n",
      "['influencer_marketing_data_set/cyberbuzz_2023\\\\S100SGQG\\\\XBRL\\\\PublicDoc\\\\jpcrp030000-asr-001_E35089-000_2023-09-30_01_2023-12-14.xbrl']\n",
      "['influencer_marketing_data_set/trenders_2023\\\\S100R4DE\\\\XBRL\\\\PublicDoc\\\\jpcrp030000-asr-001_E26933-000_2023-03-31_01_2023-06-26.xbrl']\n"
     ]
    }
   ],
   "source": [
    "file_name_list = [\"anymindgroup_2023\",\"cyberbuzz_2023\",\"trenders_2023\"]\n",
    "Business_risk(file_name_list)"
   ]
  },
  {
   "cell_type": "code",
   "execution_count": null,
   "metadata": {},
   "outputs": [],
   "source": []
  }
 ],
 "metadata": {
  "kernelspec": {
   "display_name": "Python 3",
   "language": "python",
   "name": "python3"
  },
  "language_info": {
   "codemirror_mode": {
    "name": "ipython",
    "version": 3
   },
   "file_extension": ".py",
   "mimetype": "text/x-python",
   "name": "python",
   "nbconvert_exporter": "python",
   "pygments_lexer": "ipython3",
   "version": "3.12.1"
  }
 },
 "nbformat": 4,
 "nbformat_minor": 2
}
